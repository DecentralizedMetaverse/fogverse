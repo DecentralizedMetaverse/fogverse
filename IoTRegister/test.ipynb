{
 "cells": [
  {
   "cell_type": "code",
   "execution_count": 1,
   "metadata": {},
   "outputs": [],
   "source": [
    "from Cryptodome.Cipher import AES\n",
    "from Cryptodome.Random import get_random_bytes\n",
    "\n",
    "# ファイルを読み込む\n",
    "with open(\"test.ssh\", \"rb\") as f:\n",
    "    data = f.read()\n",
    "\n",
    "# 32バイトのキーを生成\n",
    "key = get_random_bytes(32)\n",
    "\n",
    "# AES暗号器を作成\n",
    "cipher = AES.new(key, AES.MODE_CTR)\n",
    "\n",
    "# ファイルを暗号化\n",
    "encrypted_data = cipher.encrypt(data)\n",
    "\n",
    "# 暗号化したファイルを書き込む\n",
    "with open(\"test.ssh.enc\", \"wb\") as f:\n",
    "    f.write(encrypted_data)\n",
    "\n",
    "# 復号化用にnonce（初期値）を取得\n",
    "nonce = cipher.nonce\n",
    "\n",
    "# 復号用のAES暗号器を作成\n",
    "decipher = AES.new(key, AES.MODE_CTR, nonce=nonce)\n",
    "\n",
    "# ファイルを復号化\n",
    "decrypted_data = decipher.decrypt(encrypted_data)\n",
    "\n",
    "# 復号化したファイルを書き込む\n",
    "with open(\"test2.ssh\", \"wb\") as f:\n",
    "    f.write(decrypted_data)"
   ]
  },
  {
   "cell_type": "code",
   "execution_count": 2,
   "metadata": {},
   "outputs": [],
   "source": [
    "from Cryptodome.Cipher import AES\n",
    "from Cryptodome.Random import get_random_bytes\n",
    "from Cryptodome.Protocol.KDF import PBKDF2\n",
    "\n",
    "# ファイルを読み込む\n",
    "with open(\"test.ssh\", \"rb\") as f:\n",
    "    data = f.read()\n",
    "\n",
    "# パスワードとsaltを入力\n",
    "password = \"test1\"\n",
    "salt = \"test2\"\n",
    "\n",
    "# パスワードとsaltから32バイトのキーを生成（PBKDF2関数を使用）\n",
    "key = PBKDF2(password, salt, dkLen=32)\n",
    "\n",
    "# AES暗号器を作成（CTRモード）\n",
    "cipher = AES.new(key, AES.MODE_CTR)\n",
    "\n",
    "# ファイルを暗号化\n",
    "encrypted_data = cipher.encrypt(data)\n",
    "\n",
    "# 暗号化したファイルを書き込む\n",
    "with open(\"test.ssh.enc\", \"wb\") as f:\n",
    "    f.write(encrypted_data)\n",
    "\n",
    "# 復号化用にnonce（初期値）を取得\n",
    "nonce = cipher.nonce\n",
    "\n",
    "# 復号用のAES暗号器を作成\n",
    "decipher = AES.new(key, AES.MODE_CTR, nonce=nonce)\n",
    "\n",
    "# ファイルを復号化\n",
    "decrypted_data = decipher.decrypt(encrypted_data)\n",
    "\n",
    "# 復号化したファイルを書き込む\n",
    "with open(\"test3.ssh\", \"wb\") as f:\n",
    "    f.write(decrypted_data)"
   ]
  },
  {
   "cell_type": "code",
   "execution_count": 26,
   "metadata": {},
   "outputs": [
    {
     "data": {
      "text/plain": [
       "CompletedProcess(args='dir', returncode=0, stdout=' Volume in drive E is SSD_1TB \\n Volume Serial Number is 4E8B-5EBC\\n\\n Directory of e:\\\\Projects\\\\research\\\\DecentralizedMetaverse\\\\decentralized-metaverse-unity\\\\py-metaverse\\n\\n02/26/2023  11:55 AM    <DIR>          .\\n02/26/2023  11:55 AM    <DIR>          ..\\n02/25/2023  11:14 PM             1,555 converter.py\\n02/25/2023  11:59 PM             1,041 encrypt.py\\n02/26/2023  11:46 AM                58 main.py\\n02/22/2023  10:14 PM               162 QmazK7rziw12X41D2ytdy93rk9hqFW9qZTKzX1HGThHvzp.yaml\\n02/26/2023  10:55 AM                97 qr_code.py\\n02/25/2023  11:16 PM             3,271 test.ipynb\\n02/26/2023  11:55 AM               105 test.py\\n02/26/2023  11:32 AM                62 test.ssh\\n02/25/2023  11:16 PM                43 test.ssh.enc\\n02/25/2023  11:14 PM                43 test2.ssh\\n02/25/2023  11:16 PM                43 test3.ssh\\n              11 File(s)          6,480 bytes\\n               2 Dir(s)  773,593,481,216 bytes free\\n', stderr='')"
      ]
     },
     "execution_count": 26,
     "metadata": {},
     "output_type": "execute_result"
    }
   ],
   "source": [
    "import subprocess\n",
    "\n",
    "# subprocess.run(\"ls\", shell=True, capture_output=True, text=True).stdout\n",
    "subprocess.run('dir', capture_output=True, text=True, shell=True)"
   ]
  },
  {
   "cell_type": "code",
   "execution_count": 3,
   "metadata": {},
   "outputs": [
    {
     "data": {
      "text/plain": [
       "'test.ssh'"
      ]
     },
     "execution_count": 3,
     "metadata": {},
     "output_type": "execute_result"
    }
   ],
   "source": [
    "filename = \"test.ssh.enc\"\n",
    "\n",
    "idx = filename.rfind(\".\")\n",
    "filename[0:idx]"
   ]
  },
  {
   "cell_type": "code",
   "execution_count": null,
   "metadata": {},
   "outputs": [],
   "source": [
    "from Cryptodome.Cipher import AES\n",
    "from Cryptodome.Random import get_random_bytes\n",
    "from Cryptodome.Protocol.KDF import PBKDF2\n",
    "from cryptography.hazmat.primitives import padding\n",
    "import hashlib\n",
    "\n",
    "def encrypt(filename, password, salt):\n",
    "    iterations = 10000\n",
    "    # ファイルを読み込む\n",
    "    with open(filename, \"rb\") as f:\n",
    "        data = f.read()\n",
    "        \n",
    "    password = password.encode('utf-8')\n",
    "    salt = salt.encode('utf-8')\n",
    "    \n",
    "    # PBKDF2で鍵と初期化ベクトルを生成（32バイトと16バイト）\n",
    "    key = hashlib.pbkdf2_hmac(\"sha256\", password, salt, iterations, 32)\n",
    "    iv = hashlib.pbkdf2_hmac(\"sha256\", password, salt, iterations, 16)\n",
    "\n",
    "    # AES暗号器を作成\n",
    "    cipher = AES.new(key, AES.MODE_CBC, iv)\n",
    "\n",
    "    # データの長さが16バイトの倍数になるようにパディングする\n",
    "    padder = padding.PKCS7(128).padder()\n",
    "    data = padder.update(data) + padder.finalize()\n",
    "    \n",
    "    # ファイルを暗号化\n",
    "    encrypted_data = cipher.encrypt(data)\n",
    "\n",
    "    # 暗号化したファイルを書き込む\n",
    "    with open(f\"{filename}.enc\", \"wb\") as f:\n",
    "        f.write(encrypted_data)\n",
    "        \n",
    "\n",
    "def decrypt(filename, password, salt):\n",
    "    iterations = 10000\n",
    "    \n",
    "    # ファイルを読み込む\n",
    "    with open(filename, \"rb\") as f:\n",
    "        encrypted_data = f.read()\n",
    "        \n",
    "    # パディングを取り除く\n",
    "    unpadder = padding.PKCS7(128).unpadder()\n",
    "    data = unpadder.update(data) + unpadder.finalize()\n",
    "        \n",
    "    password = password.encode('utf-8')\n",
    "    salt = salt.encode('utf-8')\n",
    "        \n",
    "    # PBKDF2で鍵と初期化ベクトルを生成（32バイトと16バイト）\n",
    "    key = hashlib.pbkdf2_hmac(\"sha256\", password, salt, iterations, 32)\n",
    "    iv = hashlib.pbkdf2_hmac(\"sha256\", password, salt, iterations, 16)\n",
    "\n",
    "    # パスワードとsaltから32バイトのキーを生成（PBKDF2関数を使用）\n",
    "    # key = PBKDF2(password, salt, dkLen=32)\n",
    "\n",
    "    # AES暗号器を作成\n",
    "    decipher = AES.new(key, AES.MODE_CBC, iv)\n",
    "\n",
    "    # ファイルを復号化\n",
    "    decrypted_data = decipher.decrypt(encrypted_data)\n",
    "    \n",
    "    decrypted_data = decrypted_data.rstrip(b\"\\x00\")\n",
    "\n",
    "    # 復号化したファイルを書き込む\n",
    "    idx = filename.rfind(\".\")\n",
    "    filename = filename[0:idx]\n",
    "    with open(filename, \"wb\") as f:\n",
    "        f.write(decrypted_data)"
   ]
  }
 ],
 "metadata": {
  "kernelspec": {
   "display_name": "base",
   "language": "python",
   "name": "python3"
  },
  "language_info": {
   "codemirror_mode": {
    "name": "ipython",
    "version": 3
   },
   "file_extension": ".py",
   "mimetype": "text/x-python",
   "name": "python",
   "nbconvert_exporter": "python",
   "pygments_lexer": "ipython3",
   "version": "3.9.12"
  },
  "orig_nbformat": 4,
  "vscode": {
   "interpreter": {
    "hash": "61ffc1f7e6776b16447b478971d01bbb7b04654d98263abb593045c97b9b58e2"
   }
  }
 },
 "nbformat": 4,
 "nbformat_minor": 2
}
